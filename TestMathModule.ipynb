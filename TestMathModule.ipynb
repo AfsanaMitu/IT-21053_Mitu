{
  "nbformat": 4,
  "nbformat_minor": 0,
  "metadata": {
    "colab": {
      "provenance": [],
      "authorship_tag": "ABX9TyNyvS+d/ecZYH95sbBQDsME",
      "include_colab_link": true
    },
    "kernelspec": {
      "name": "python3",
      "display_name": "Python 3"
    },
    "language_info": {
      "name": "python"
    }
  },
  "cells": [
    {
      "cell_type": "markdown",
      "metadata": {
        "id": "view-in-github",
        "colab_type": "text"
      },
      "source": [
        "<a href=\"https://colab.research.google.com/github/AfsanaMitu/IT-21053_Mitu/blob/main/TestMathModule.ipynb\" target=\"_parent\"><img src=\"https://colab.research.google.com/assets/colab-badge.svg\" alt=\"Open In Colab\"/></a>"
      ]
    },
    {
      "cell_type": "code",
      "execution_count": 1,
      "metadata": {
        "colab": {
          "base_uri": "https://localhost:8080/"
        },
        "id": "OfuM3zqTDLFf",
        "outputId": "d5d3cff3-a044-42a5-bc4e-51408d5757d3"
      },
      "outputs": [
        {
          "output_type": "stream",
          "name": "stdout",
          "text": [
            "The Floor and Ceiling value of 9.45 are:10, 9\n",
            "The value of x after copying the sign from y is: -94.0\n",
            "Absolute value of -94 and 54 are: 94.0, 54.0\n",
            "Sum of the elements of the list: 37.13999999999999\n",
            "The GCD of 24 and 56 : 24\n",
            "It is not a number\n",
            "False\n",
            "True\n"
          ]
        }
      ],
      "source": [
        "#Import math library\n",
        "import math\n",
        "#Floor and Ceiling\n",
        "print('The Floor and Ceiling value of 9.45 are:' + str(math.ceil(9.45)) + ', ' + str(math.floor(9.45)))\n",
        "\n",
        "#Copysign\n",
        "x = 94\n",
        "y = -27\n",
        "print('The value of x after copying the sign from y is: ' + str(math.copysign(x, y)))\n",
        "\n",
        "#Absolute\n",
        "print('Absolute value of -94 and 54 are: ' + str(math.fabs(-94)) + ', ' + str(math.fabs(54)))\n",
        "\n",
        "#Fsum & gcd\n",
        "my_list = [12, 9.25, 89, 3.02, -75.23, -7.2, 6.3]\n",
        "print('Sum of the elements of the list: ' + str(math.fsum(my_list)))\n",
        "print('The GCD of 24 and 56 : ' + str(math.gcd(24, 48)))\n",
        "\n",
        "#isnan\n",
        "x = float('nan')\n",
        "if math.isnan(x):\n",
        "   print('It is not a number')\n",
        "      #x = float('inf')\n",
        "\n",
        "#isinf\n",
        "y = 54\n",
        "if math.isinf(x):\n",
        "   print('It is Infinity')\n",
        "      #x is not a finite number\n",
        "print(math.isfinite(x))\n",
        "   #y is a finite number\n",
        "print(math.isfinite(y))"
      ]
    },
    {
      "cell_type": "code",
      "source": [
        "import datetime\n",
        "\n",
        "x = datetime.datetime.now()\n",
        "\n",
        "print(x.year)\n",
        "print(x.strftime(\"%A\"))"
      ],
      "metadata": {
        "colab": {
          "base_uri": "https://localhost:8080/"
        },
        "id": "f7TWquK_I0Or",
        "outputId": "e42a4d37-89a8-4e77-8d36-d9d3c1e22b33"
      },
      "execution_count": 1,
      "outputs": [
        {
          "output_type": "stream",
          "name": "stdout",
          "text": [
            "2024\n",
            "Thursday\n"
          ]
        }
      ]
    },
    {
      "cell_type": "code",
      "source": [
        "def MBSTU_TotalDept(f_engg, f_ls, Others):\n",
        "  total_dept = f_engg + f_ls + Others\n",
        "  return total_dept\n",
        "\n",
        "\n",
        "f_engg = int(input(\"Enter no of Dept of f_engg:\"))\n",
        "f_ls = int(input(\"Enter no of Dept of f_ls:\"))\n",
        "others = int(input(\"Enter no of other dept:\"))\n",
        "\n",
        "print(\"Total dept of MBSTU:\",MBSTU_TotalDept(f_engg, f_ls, others))"
      ],
      "metadata": {
        "colab": {
          "base_uri": "https://localhost:8080/"
        },
        "id": "2ZcrakfeJb8o",
        "outputId": "bf1c2978-dc08-4324-f628-be9c7495ae47"
      },
      "execution_count": 2,
      "outputs": [
        {
          "output_type": "stream",
          "name": "stdout",
          "text": [
            "Enter no of Dept of f_engg:6\n",
            "Enter no of Dept of f_ls:8\n",
            "Enter no of other dept:9\n",
            "Total dept of MBSTU: 23\n"
          ]
        }
      ]
    },
    {
      "cell_type": "code",
      "source": [
        "import math\n",
        "\n",
        "print(math.pi)"
      ],
      "metadata": {
        "colab": {
          "base_uri": "https://localhost:8080/"
        },
        "id": "mAW43aXGJ61k",
        "outputId": "2ad1799a-b25a-4647-91df-d940458f02d6"
      },
      "execution_count": 3,
      "outputs": [
        {
          "output_type": "stream",
          "name": "stdout",
          "text": [
            "3.141592653589793\n"
          ]
        }
      ]
    }
  ]
}