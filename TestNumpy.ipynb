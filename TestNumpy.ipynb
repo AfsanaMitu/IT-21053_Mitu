{
  "nbformat": 4,
  "nbformat_minor": 0,
  "metadata": {
    "colab": {
      "provenance": [],
      "authorship_tag": "ABX9TyOeADVPq2uEtwnpDjW88WDs",
      "include_colab_link": true
    },
    "kernelspec": {
      "name": "python3",
      "display_name": "Python 3"
    },
    "language_info": {
      "name": "python"
    }
  },
  "cells": [
    {
      "cell_type": "markdown",
      "metadata": {
        "id": "view-in-github",
        "colab_type": "text"
      },
      "source": [
        "<a href=\"https://colab.research.google.com/github/AfsanaMitu/IT-21053_Mitu/blob/main/TestNumpy.ipynb\" target=\"_parent\"><img src=\"https://colab.research.google.com/assets/colab-badge.svg\" alt=\"Open In Colab\"/></a>"
      ]
    },
    {
      "cell_type": "code",
      "source": [
        "import numpy as np\n",
        "test = np.array([1,2,3])\n",
        "q=15\n",
        "\n",
        "for i in test:\n",
        "  print(str(i)+\"\\n\")\n",
        "\n",
        "print(q)"
      ],
      "metadata": {
        "colab": {
          "base_uri": "https://localhost:8080/"
        },
        "id": "CQ6dF_AtvL8d",
        "outputId": "172a24e0-2991-4bb4-9652-c15d5ae655a1"
      },
      "execution_count": 3,
      "outputs": [
        {
          "output_type": "stream",
          "name": "stdout",
          "text": [
            "1\n",
            "2\n",
            "3\n",
            "15\n"
          ]
        }
      ]
    },
    {
      "cell_type": "code",
      "source": [
        "type(test)\n",
        "test.shape\n",
        "test.ndim"
      ],
      "metadata": {
        "colab": {
          "base_uri": "https://localhost:8080/"
        },
        "id": "SK8_X85p2gDh",
        "outputId": "340ae2c2-14e1-45c4-c813-ff87a6e09309"
      },
      "execution_count": 31,
      "outputs": [
        {
          "output_type": "execute_result",
          "data": {
            "text/plain": [
              "1"
            ]
          },
          "metadata": {},
          "execution_count": 31
        }
      ]
    },
    {
      "cell_type": "code",
      "source": [
        "test1=np.array=[[1,2,3],[4,5,6],[7,8,9]]\n",
        "for i in test1:\n",
        "  print(str(i)+\"\\n\")\n",
        "\n",
        "\n",
        "\n",
        ""
      ],
      "metadata": {
        "colab": {
          "base_uri": "https://localhost:8080/"
        },
        "id": "IF05IT8C2ziv",
        "outputId": "e0c08ba6-ff2c-485e-dbf1-c9b2693a6d0b"
      },
      "execution_count": 32,
      "outputs": [
        {
          "output_type": "stream",
          "name": "stdout",
          "text": [
            "[1, 2, 3]\n",
            "\n",
            "[4, 5, 6]\n",
            "\n",
            "[7, 8, 9]\n",
            "\n"
          ]
        }
      ]
    },
    {
      "cell_type": "code",
      "source": [],
      "metadata": {
        "id": "4REOcSwS67i2"
      },
      "execution_count": null,
      "outputs": []
    },
    {
      "cell_type": "code",
      "source": [],
      "metadata": {
        "id": "-ksWoxTQ68KR"
      },
      "execution_count": null,
      "outputs": []
    },
    {
      "cell_type": "code",
      "source": [
        "test2 = np.array=[[[1,2,3],[4,5,6],[7,8,9]],[[10,11,12],[13,14,15],[16,17,18]],[[19,20,21],[22,23,24],[25,16,17]],]\n",
        "for i in test2:\n",
        "  print(str(i)+\"\\n\")"
      ],
      "metadata": {
        "colab": {
          "base_uri": "https://localhost:8080/"
        },
        "id": "pMiSTX-Y5owS",
        "outputId": "ed93d2f5-fd12-4913-a607-a269a3c0570d"
      },
      "execution_count": 20,
      "outputs": [
        {
          "output_type": "stream",
          "name": "stdout",
          "text": [
            "[[1, 2, 3], [4, 5, 6], [7, 8, 9]]\n",
            "\n",
            "[[10, 11, 12], [13, 14, 15], [16, 17, 18]]\n",
            "\n",
            "[[19, 20, 21], [22, 23, 24], [25, 16, 17]]\n",
            "\n"
          ]
        }
      ]
    }
  ]
}